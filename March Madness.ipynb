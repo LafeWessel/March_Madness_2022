{
 "cells": [
  {
   "cell_type": "code",
   "execution_count": 1,
   "id": "82a74311",
   "metadata": {},
   "outputs": [],
   "source": [
    "import tensorflow as ts\n",
    "import pandas as pd\n",
    "import numpy as np\n",
    "import seaborn as sn\n",
    "import os as os\n",
    "import glob as glob\n"
   ]
  },
  {
   "cell_type": "markdown",
   "id": "d8b9d473",
   "metadata": {},
   "source": [
    "## Read in data"
   ]
  },
  {
   "cell_type": "code",
   "execution_count": 5,
   "id": "7498450d",
   "metadata": {},
   "outputs": [
    {
     "name": "stdout",
     "output_type": "stream",
     "text": [
      "data/2014 data.csv\n",
      "data/2015 data.csv\n",
      "data/2016 data.csv\n",
      "data/2017 data.csv\n",
      "data/2018 data.csv\n",
      "data/2019 data.csv\n",
      "data/2021 data.csv\n"
     ]
    }
   ],
   "source": [
    "data = {}\n",
    "for f in glob.glob(\"data/*.csv\"):\n",
    "    print(f)\n",
    "    data[f] = pd.read_csv(f)"
   ]
  },
  {
   "cell_type": "markdown",
   "id": "3f2810f9",
   "metadata": {},
   "source": [
    "## Analyze Data\n",
    "\n",
    "- Look at how Quad 1 Wins/Losses compares to Wins/Losses against Top 25 Teams"
   ]
  },
  {
   "cell_type": "markdown",
   "id": "36340a32",
   "metadata": {},
   "source": [
    "## Clean Data\n",
    "\n",
    "- Apply Standard scaling to all data\n",
    "- OHE Region\n",
    "- Drop Conference\n",
    "- Drop Conference Tournament Champions\n",
    "- Drop Total Points, Total Opp Points, Total Scoring Differential\n",
    "\n",
    "### Smaller Model\n",
    "\n",
    "- Same as above\n",
    "- Apply PCA to reduce feature count\n",
    "- Handpick some features"
   ]
  },
  {
   "cell_type": "markdown",
   "id": "b73e5cef",
   "metadata": {},
   "source": [
    "## Create Model\n",
    "\n",
    "### Neural Network\n",
    "\n",
    "- Several fully-connected layers\n",
    "\n",
    "#### Output\n",
    "\n",
    "##### Win-based\n",
    "\n",
    "- 7 output nodes, predict number of wins (0-6)\n",
    "- Apply softmax function at end to get probability\n",
    "\n",
    "##### Rank-based\n",
    "\n",
    "- Find the optimal ranking of teams for each year\n",
    "- 11 output nodes, predict which rank (0-10) the team should be placed in"
   ]
  },
  {
   "cell_type": "markdown",
   "id": "1fcd04e8",
   "metadata": {},
   "source": [
    "## Validate Results"
   ]
  },
  {
   "cell_type": "code",
   "execution_count": null,
   "id": "cb8427b0",
   "metadata": {},
   "outputs": [],
   "source": []
  }
 ],
 "metadata": {
  "kernelspec": {
   "display_name": "Python 3",
   "language": "python",
   "name": "python3"
  },
  "language_info": {
   "codemirror_mode": {
    "name": "ipython",
    "version": 3
   },
   "file_extension": ".py",
   "mimetype": "text/x-python",
   "name": "python",
   "nbconvert_exporter": "python",
   "pygments_lexer": "ipython3",
   "version": "3.6.8"
  }
 },
 "nbformat": 4,
 "nbformat_minor": 5
}
