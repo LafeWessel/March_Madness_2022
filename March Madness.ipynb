{
 "cells": [
  {
   "cell_type": "code",
   "execution_count": 45,
   "id": "82a74311",
   "metadata": {},
   "outputs": [],
   "source": [
    "import tensorflow as ts\n",
    "import pandas as pd\n",
    "import numpy as np\n",
    "import seaborn as sn\n",
    "import os as os\n",
    "import glob as glob\n",
    "import re as re\n",
    "import matplotlib.pyplot as plt\n",
    "from statsmodels.stats.weightstats import ttest_ind\n",
    "from sklearn.preprocessing import StandardScaler"
   ]
  },
  {
   "cell_type": "markdown",
   "id": "c3c89398",
   "metadata": {},
   "source": [
    "## Read in data\n",
    "\n",
    "- Read in from ./data directory\n",
    "    - Expects the name to be in the format of `YYYY data.csv`\n",
    "    - Add year to data set\n",
    "- Join together\n",
    "\n"
   ]
  },
  {
   "cell_type": "code",
   "execution_count": 20,
   "id": "7498450d",
   "metadata": {},
   "outputs": [
    {
     "name": "stdout",
     "output_type": "stream",
     "text": [
      "data/2014 data.csv\n",
      "data/2015 data.csv\n",
      "data/2016 data.csv\n",
      "data/2017 data.csv\n",
      "data/2018 data.csv\n",
      "data/2019 data.csv\n",
      "data/2021 data.csv\n"
     ]
    }
   ],
   "source": [
    "data = {}\n",
    "for f in glob.glob(\"data/*.csv\"):\n",
    "    # find year for each file\n",
    "    yr = int(f[5:9])\n",
    "    \n",
    "    # read in CSV data files\n",
    "    print(f)\n",
    "    data[yr] = pd.read_csv(f, index_col=0)\n",
    "\n",
    "    # add year to current DataFrame\n",
    "    data[yr]['year'] = yr"
   ]
  },
  {
   "cell_type": "code",
   "execution_count": 24,
   "id": "80a48311",
   "metadata": {},
   "outputs": [],
   "source": [
    "# join datasets together\n",
    "df = pd.DataFrame()\n",
    "for k in data.keys():\n",
    "    df = df.append(data[k])"
   ]
  },
  {
   "cell_type": "code",
   "execution_count": 26,
   "id": "a270325a",
   "metadata": {
    "scrolled": true
   },
   "outputs": [
    {
     "name": "stdout",
     "output_type": "stream",
     "text": [
      "<class 'pandas.core.frame.DataFrame'>\n",
      "Int64Index: 478 entries, 0 to 67\n",
      "Data columns (total 35 columns):\n",
      " #   Column                           Non-Null Count  Dtype  \n",
      "---  ------                           --------------  -----  \n",
      " 0   Team                             478 non-null    object \n",
      " 1   Conference                       478 non-null    object \n",
      " 2   Region                           478 non-null    object \n",
      " 3   Cinderella                       478 non-null    float64\n",
      " 4   Conference Tournament Champion   478 non-null    float64\n",
      " 5   Number of Tournament Wins        478 non-null    float64\n",
      " 6   Made Tournament Previous Year    478 non-null    float64\n",
      " 7   Game Count                       478 non-null    float64\n",
      " 8   Wins                             478 non-null    float64\n",
      " 9   Losses                           478 non-null    float64\n",
      " 10  3-Pointers Made                  478 non-null    float64\n",
      " 11  3-Pointers Attempted             478 non-null    float64\n",
      " 12  3-Point Percentage               478 non-null    float64\n",
      " 13  Free Throws Made                 478 non-null    float64\n",
      " 14  Free Throws Attempted            478 non-null    float64\n",
      " 15  Free Throw Percentage            478 non-null    float64\n",
      " 16  Rebounds                         478 non-null    float64\n",
      " 17  Opponent's Rebounds              478 non-null    float64\n",
      " 18  Rebound Differential             478 non-null    float64\n",
      " 19  Offensive Rebounds               478 non-null    float64\n",
      " 20  Assists                          478 non-null    float64\n",
      " 21  Turnovers                        478 non-null    float64\n",
      " 22  Assist to Turnover Ratio         478 non-null    float64\n",
      " 23  ESPN Strength of Schedule        478 non-null    float64\n",
      " 24  Wins Against Top 25 RPI Teams    410 non-null    float64\n",
      " 25  Losses Against Top 25 RPI Teams  410 non-null    float64\n",
      " 26  Total Points                     478 non-null    float64\n",
      " 27  Average PPG                      478 non-null    float64\n",
      " 28  Total Opp Points                 478 non-null    float64\n",
      " 29  Average Opp PPG                  478 non-null    float64\n",
      " 30  Total Scoring Differential       478 non-null    float64\n",
      " 31  Scoring Differential Per Game    478 non-null    float64\n",
      " 32  year                             478 non-null    int64  \n",
      " 33  Quad 1 Wins                      68 non-null     float64\n",
      " 34  Quad 1 Losses                    68 non-null     float64\n",
      "dtypes: float64(31), int64(1), object(3)\n",
      "memory usage: 134.4+ KB\n"
     ]
    }
   ],
   "source": [
    "df.info()"
   ]
  },
  {
   "cell_type": "markdown",
   "id": "c6bca0b0",
   "metadata": {},
   "source": [
    "## Analyze Data\n",
    "\n",
    "- Look at how Quad 1 Wins/Losses compares to Wins/Losses against Top 25 Teams"
   ]
  },
  {
   "cell_type": "code",
   "execution_count": 51,
   "id": "7ea64cc1",
   "metadata": {},
   "outputs": [
    {
     "data": {
      "image/png": "[encoded data removed]",
      "text/plain": [
       "<Figure size 432x288 with 1 Axes>"
      ]
     },
     "metadata": {
      "needs_background": "light"
     },
     "output_type": "display_data"
    }
   ],
   "source": [
    "# plt.figure(figsize=(8,6))\n",
    "plt.hist(df['Quad 1 Wins'])\n",
    "plt.locator_params(axis='x', nbins=df['Quad 1 Wins'].max())\n",
    "plt.show()"
   ]
  },
  {
   "cell_type": "code",
   "execution_count": 54,
   "id": "b8c41755",
   "metadata": {},
   "outputs": [
    {
     "data": {
      "image/png": "[encoded data removed]",
      "text/plain": [
       "<Figure size 432x288 with 1 Axes>"
      ]
     },
     "metadata": {
      "needs_background": "light"
     },
     "output_type": "display_data"
    }
   ],
   "source": [
    "# plt.figure(figsize=(8,6))\n",
    "plt.hist(df[\"Wins Against Top 25 RPI Teams\"])\n",
    "plt.locator_params(axis='x', nbins=df['Wins Against Top 25 RPI Teams'].max())\n",
    "plt.show()"
   ]
  },
  {
   "cell_type": "code",
   "execution_count": 34,
   "id": "da0839a9",
   "metadata": {},
   "outputs": [
    {
     "data": {
      "text/plain": [
       "count    410.000000\n",
       "mean       2.260976\n",
       "std        2.781829\n",
       "min        0.000000\n",
       "25%        0.000000\n",
       "50%        1.000000\n",
       "75%        3.000000\n",
       "max       17.000000\n",
       "Name: Wins Against Top 25 RPI Teams, dtype: float64"
      ]
     },
     "execution_count": 34,
     "metadata": {},
     "output_type": "execute_result"
    }
   ],
   "source": [
    "df['Wins Against Top 25 RPI Teams'].describe()"
   ]
  },
  {
   "cell_type": "code",
   "execution_count": 36,
   "id": "ec65a4f4",
   "metadata": {},
   "outputs": [
    {
     "data": {
      "text/plain": [
       "count    68.000000\n",
       "mean      3.235294\n",
       "std       3.129626\n",
       "min       0.000000\n",
       "25%       0.000000\n",
       "50%       3.000000\n",
       "75%       5.000000\n",
       "max      12.000000\n",
       "Name: Quad 1 Wins, dtype: float64"
      ]
     },
     "execution_count": 36,
     "metadata": {},
     "output_type": "execute_result"
    }
   ],
   "source": [
    "df['Quad 1 Wins'].describe()"
   ]
  },
  {
   "cell_type": "code",
   "execution_count": 44,
   "id": "e411be73",
   "metadata": {},
   "outputs": [
    {
     "data": {
      "text/plain": [
       "(2.6262174237947327, 0.004456074349035354, 476.0)"
      ]
     },
     "execution_count": 44,
     "metadata": {},
     "output_type": "execute_result"
    }
   ],
   "source": [
    "ttest_ind(df.loc[~df['Quad 1 Wins'].isna(),'Quad 1 Wins'], df.loc[~df['Wins Against Top 25 RPI Teams'].isna(),'Wins Against Top 25 RPI Teams'], alternative='larger')"
   ]
  },
  {
   "cell_type": "code",
   "execution_count": null,
   "id": "6a9f8650",
   "metadata": {},
   "outputs": [],
   "source": []
  },
  {
   "cell_type": "markdown",
   "id": "36340a32",
   "metadata": {},
   "source": [
    "## Clean Data\n",
    "\n",
    "- Apply Standard scaling to all data\n",
    "- OHE Region\n",
    "- Drop Conference\n",
    "- Drop Conference Tournament Champions\n",
    "- Drop Total Points, Total Opp Points, Total Scoring Differential\n",
    "\n",
    "### Smaller Model\n",
    "\n",
    "- Same as above\n",
    "- Apply PCA to reduce feature count\n",
    "- Handpick some features"
   ]
  },
  {
   "cell_type": "markdown",
   "id": "b73e5cef",
   "metadata": {},
   "source": [
    "## Create Model\n",
    "\n",
    "### Neural Network\n",
    "\n",
    "- Several fully-connected layers\n",
    "\n",
    "#### Output\n",
    "\n",
    "##### Win-based\n",
    "\n",
    "- 7 output nodes, predict number of wins (0-6)\n",
    "- Apply softmax function at end to get probability\n",
    "\n",
    "##### Rank-based\n",
    "\n",
    "- Find the optimal ranking of teams for each year\n",
    "- 11 output nodes, predict which rank (0-10) the team should be placed in"
   ]
  },
  {
   "cell_type": "markdown",
   "id": "1fcd04e8",
   "metadata": {},
   "source": [
    "## Validate Results\n",
    "\n",
    "- Want to pick several Cinderella teams for bottom 4-6 predictions\n"
   ]
  },
  {
   "cell_type": "code",
   "execution_count": null,
   "id": "cb8427b0",
   "metadata": {},
   "outputs": [],
   "source": []
  }
 ],
 "metadata": {
  "kernelspec": {
   "display_name": "Python 3",
   "language": "python",
   "name": "python3"
  },
  "language_info": {
   "codemirror_mode": {
    "name": "ipython",
    "version": 3
   },
   "file_extension": ".py",
   "mimetype": "text/x-python",
   "name": "python",
   "nbconvert_exporter": "python",
   "pygments_lexer": "ipython3",
   "version": "3.6.8"
  }
 },
 "nbformat": 4,
 "nbformat_minor": 5
}
