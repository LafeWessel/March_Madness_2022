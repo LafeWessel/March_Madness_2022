{
 "cells": [
  {
   "cell_type": "code",
   "execution_count": null,
   "id": "c4b9a521",
   "metadata": {},
   "outputs": [],
   "source": [
    "import pandas as pd\n",
    "import numpy as np\n",
    "import seaborn as sns\n",
    "import os as os\n",
    "import tensorflow as ts\n",
    "import matplotlib.pyplot as plt"
   ]
  },
  {
   "cell_type": "markdown",
   "id": "c0124ff3",
   "metadata": {},
   "source": [
    "## Create Model\n",
    "\n",
    "### Neural Network\n",
    "\n",
    "- Several fully-connected layers\n",
    "\n",
    "#### Output\n",
    "\n",
    "##### Win-based\n",
    "\n",
    "- 7 output nodes, predict number of wins (0-6)\n",
    "- Apply softmax function at end to get probability\n",
    "\n",
    "##### Rank-based\n",
    "\n",
    "- Find the optimal ranking of teams for each year\n",
    "- 11 output nodes, predict which rank (0-10) the team should be placed in"
   ]
  },
  {
   "cell_type": "markdown",
   "id": "3208c7d5",
   "metadata": {},
   "source": [
    "## Validate Results\n",
    "\n",
    "- Want to pick several Cinderella teams for bottom 4-6 predictions\n"
   ]
  },
  {
   "cell_type": "code",
   "execution_count": null,
   "id": "ee362b29",
   "metadata": {},
   "outputs": [],
   "source": []
  }
 ],
 "metadata": {
  "kernelspec": {
   "display_name": "Python 3",
   "language": "python",
   "name": "python3"
  },
  "language_info": {
   "codemirror_mode": {
    "name": "ipython",
    "version": 3
   },
   "file_extension": ".py",
   "mimetype": "text/x-python",
   "name": "python",
   "nbconvert_exporter": "python",
   "pygments_lexer": "ipython3",
   "version": "3.6.8"
  }
 },
 "nbformat": 4,
 "nbformat_minor": 5
}
