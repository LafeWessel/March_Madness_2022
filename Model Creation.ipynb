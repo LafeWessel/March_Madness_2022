{
 "cells": [
  {
   "cell_type": "code",
   "execution_count": 152,
   "id": "c4b9a521",
   "metadata": {},
   "outputs": [],
   "source": [
    "import pandas as pd\n",
    "import numpy as np\n",
    "import seaborn as sns\n",
    "import os as os\n",
    "import tensorflow as ts\n",
    "import tensorflow.keras as ks\n",
    "from tensorflow.keras import layers\n",
    "import matplotlib.pyplot as plt"
   ]
  },
  {
   "cell_type": "markdown",
   "id": "404f794e",
   "metadata": {},
   "source": [
    "## Read in Data\n"
   ]
  },
  {
   "cell_type": "code",
   "execution_count": 153,
   "id": "617dd871",
   "metadata": {},
   "outputs": [],
   "source": [
    "# read in data\n",
    "df = pd.read_csv(\"./processed_data/pca_data.csv\", index_col=0)"
   ]
  },
  {
   "cell_type": "code",
   "execution_count": 154,
   "id": "372afc22",
   "metadata": {},
   "outputs": [
    {
     "name": "stdout",
     "output_type": "stream",
     "text": [
      "<class 'pandas.core.frame.DataFrame'>\n",
      "Int64Index: 478 entries, 0 to 477\n",
      "Data columns (total 13 columns):\n",
      " #   Column                     Non-Null Count  Dtype  \n",
      "---  ------                     --------------  -----  \n",
      " 0   Cinderella                 478 non-null    float64\n",
      " 1   Number of Tournament Wins  478 non-null    float64\n",
      " 2   3pt_0                      478 non-null    float64\n",
      " 3   Free Throw-Rebound_0       478 non-null    float64\n",
      " 4   Free Throw-Rebound_1       478 non-null    float64\n",
      " 5   Free Throw-Rebound_2       478 non-null    float64\n",
      " 6   Region_0                   478 non-null    float64\n",
      " 7   PPG_0                      478 non-null    float64\n",
      " 8   PPG_1                      478 non-null    float64\n",
      " 9   Scoring Differential_0     478 non-null    float64\n",
      " 10  Assist_0                   478 non-null    float64\n",
      " 11  Schedule_0                 478 non-null    float64\n",
      " 12  Win-Loss_0                 478 non-null    float64\n",
      "dtypes: float64(13)\n",
      "memory usage: 52.3 KB\n"
     ]
    }
   ],
   "source": [
    "df.info()"
   ]
  },
  {
   "cell_type": "markdown",
   "id": "472a7665",
   "metadata": {},
   "source": [
    "## Create Model\n",
    "\n",
    "### Neural Network\n",
    "\n",
    "- Several fully-connected layers\n",
    "    - Try 256, 128, 64, 32, 7/11\n",
    "\n",
    "#### Output\n",
    "\n",
    "##### Win-based\n",
    "\n",
    "- 7 output nodes, predict number of wins (0-6)\n",
    "- Apply softmax function at end to get probability\n",
    "\n",
    "##### Rank-based\n",
    "\n",
    "- Find the optimal ranking of teams for each year\n",
    "- 11 output nodes, predict which rank (0-10) the team should be placed in"
   ]
  },
  {
   "cell_type": "code",
   "execution_count": 155,
   "id": "fba6fc10",
   "metadata": {},
   "outputs": [],
   "source": [
    "X = df.drop(columns=['Cinderella','Number of Tournament Wins'])\n",
    "# y = df[['Cinderella','Number of Tournament Wins']]\n",
    "y = pd.get_dummies(df['Number of Tournament Wins'])"
   ]
  },
  {
   "cell_type": "code",
   "execution_count": 172,
   "id": "02ce37f5",
   "metadata": {},
   "outputs": [],
   "source": [
    "model_1 = ks.Sequential()"
   ]
  },
  {
   "cell_type": "code",
   "execution_count": 173,
   "id": "f73ea163",
   "metadata": {},
   "outputs": [],
   "source": [
    "model_1.add(layers.Input(shape=X.shape[1],))"
   ]
  },
  {
   "cell_type": "code",
   "execution_count": 174,
   "id": "4c7cbea0",
   "metadata": {},
   "outputs": [],
   "source": [
    "model_1.add(layers.Dropout(0.1))"
   ]
  },
  {
   "cell_type": "code",
   "execution_count": 175,
   "id": "d92640b8",
   "metadata": {},
   "outputs": [],
   "source": [
    "model_1.add(layers.Dense(256, activation='relu', kernel_regularizer = ks.regularizers.l2(.0001)))"
   ]
  },
  {
   "cell_type": "code",
   "execution_count": 176,
   "id": "3689ff53",
   "metadata": {},
   "outputs": [],
   "source": [
    "model_1.add(layers.Dropout(0.1))"
   ]
  },
  {
   "cell_type": "code",
   "execution_count": 177,
   "id": "79d76b18",
   "metadata": {},
   "outputs": [],
   "source": [
    "model_1.add(layers.Dense(128, activation='relu', kernel_regularizer = ks.regularizers.l2(.0001)))"
   ]
  },
  {
   "cell_type": "code",
   "execution_count": 178,
   "id": "f700387c",
   "metadata": {},
   "outputs": [],
   "source": [
    "model_1.add(layers.Dropout(0.05))"
   ]
  },
  {
   "cell_type": "code",
   "execution_count": 179,
   "id": "0883193c",
   "metadata": {},
   "outputs": [],
   "source": [
    "model_1.add(layers.Dense(64, activation='relu', kernel_regularizer = ks.regularizers.l2(.0001)))"
   ]
  },
  {
   "cell_type": "code",
   "execution_count": 180,
   "id": "2f2853fa",
   "metadata": {},
   "outputs": [],
   "source": [
    "model_1.add(layers.Dropout(0.05))"
   ]
  },
  {
   "cell_type": "code",
   "execution_count": 181,
   "id": "579dfab2",
   "metadata": {},
   "outputs": [],
   "source": [
    "model_1.add(layers.Dense(32, activation='relu', kernel_regularizer = ks.regularizers.l2(.0001)))"
   ]
  },
  {
   "cell_type": "code",
   "execution_count": 182,
   "id": "b221e097",
   "metadata": {},
   "outputs": [],
   "source": [
    "model_1.add(layers.Dense(7, activation='softmax'))"
   ]
  },
  {
   "cell_type": "code",
   "execution_count": 183,
   "id": "1eaed1fb",
   "metadata": {},
   "outputs": [],
   "source": [
    "model_1.compile(optimizer='adam', metrics=['accuracy'], loss='categorical_crossentropy')"
   ]
  },
  {
   "cell_type": "code",
   "execution_count": 184,
   "id": "33cd4ab7",
   "metadata": {},
   "outputs": [
    {
     "name": "stdout",
     "output_type": "stream",
     "text": [
      "Model: \"sequential_14\"\n",
      "_________________________________________________________________\n",
      "Layer (type)                 Output Shape              Param #   \n",
      "=================================================================\n",
      "dropout_12 (Dropout)         (None, 11)                0         \n",
      "_________________________________________________________________\n",
      "dense_51 (Dense)             (None, 256)               3072      \n",
      "_________________________________________________________________\n",
      "dropout_13 (Dropout)         (None, 256)               0         \n",
      "_________________________________________________________________\n",
      "dense_52 (Dense)             (None, 128)               32896     \n",
      "_________________________________________________________________\n",
      "dropout_14 (Dropout)         (None, 128)               0         \n",
      "_________________________________________________________________\n",
      "dense_53 (Dense)             (None, 64)                8256      \n",
      "_________________________________________________________________\n",
      "dropout_15 (Dropout)         (None, 64)                0         \n",
      "_________________________________________________________________\n",
      "dense_54 (Dense)             (None, 32)                2080      \n",
      "_________________________________________________________________\n",
      "dense_55 (Dense)             (None, 7)                 231       \n",
      "=================================================================\n",
      "Total params: 46,535\n",
      "Trainable params: 46,535\n",
      "Non-trainable params: 0\n",
      "_________________________________________________________________\n"
     ]
    }
   ],
   "source": [
    "model_1.summary()"
   ]
  },
  {
   "cell_type": "code",
   "execution_count": 185,
   "id": "0d341c92",
   "metadata": {},
   "outputs": [
    {
     "name": "stdout",
     "output_type": "stream",
     "text": [
      "('You must install pydot (`pip install pydot`) and install graphviz (see instructions at https://graphviz.gitlab.io/download/) ', 'for plot_model/model_to_dot to work.')\n"
     ]
    }
   ],
   "source": [
    "ks.utils.plot_model(model_1, show_shapes=True)"
   ]
  },
  {
   "cell_type": "code",
   "execution_count": 186,
   "id": "e0d80f3c",
   "metadata": {
    "scrolled": true
   },
   "outputs": [
    {
     "name": "stdout",
     "output_type": "stream",
     "text": [
      "Epoch 1/180\n",
      "15/15 [==============================] - 1s 2ms/step - loss: 1.5819 - accuracy: 0.4582\n",
      "Epoch 2/180\n",
      "15/15 [==============================] - 0s 2ms/step - loss: 1.2856 - accuracy: 0.5167\n",
      "Epoch 3/180\n",
      "15/15 [==============================] - 0s 2ms/step - loss: 1.2089 - accuracy: 0.5544\n",
      "Epoch 4/180\n",
      "15/15 [==============================] - 0s 2ms/step - loss: 1.1690 - accuracy: 0.5607\n",
      "Epoch 5/180\n",
      "15/15 [==============================] - 0s 2ms/step - loss: 1.1644 - accuracy: 0.5628\n",
      "Epoch 6/180\n",
      "15/15 [==============================] - 0s 2ms/step - loss: 1.1369 - accuracy: 0.5753\n",
      "Epoch 7/180\n",
      "15/15 [==============================] - 0s 2ms/step - loss: 1.1156 - accuracy: 0.5753\n",
      "Epoch 8/180\n",
      "15/15 [==============================] - 0s 2ms/step - loss: 1.1139 - accuracy: 0.5502\n",
      "Epoch 9/180\n",
      "15/15 [==============================] - 0s 2ms/step - loss: 1.1010 - accuracy: 0.5586\n",
      "Epoch 10/180\n",
      "15/15 [==============================] - 0s 2ms/step - loss: 1.0537 - accuracy: 0.6025\n",
      "Epoch 11/180\n",
      "15/15 [==============================] - 0s 2ms/step - loss: 1.0857 - accuracy: 0.5774\n",
      "Epoch 12/180\n",
      "15/15 [==============================] - 0s 2ms/step - loss: 1.0538 - accuracy: 0.5941\n",
      "Epoch 13/180\n",
      "15/15 [==============================] - 0s 2ms/step - loss: 1.0577 - accuracy: 0.6088\n",
      "Epoch 14/180\n",
      "15/15 [==============================] - 0s 2ms/step - loss: 1.0427 - accuracy: 0.6172\n",
      "Epoch 15/180\n",
      "15/15 [==============================] - 0s 2ms/step - loss: 0.9872 - accuracy: 0.6297\n",
      "Epoch 16/180\n",
      "15/15 [==============================] - 0s 2ms/step - loss: 1.0138 - accuracy: 0.6192\n",
      "Epoch 17/180\n",
      "15/15 [==============================] - 0s 2ms/step - loss: 0.9928 - accuracy: 0.6172\n",
      "Epoch 18/180\n",
      "15/15 [==============================] - 0s 2ms/step - loss: 0.9865 - accuracy: 0.6109\n",
      "Epoch 19/180\n",
      "15/15 [==============================] - 0s 2ms/step - loss: 0.9912 - accuracy: 0.6255\n",
      "Epoch 20/180\n",
      "15/15 [==============================] - 0s 2ms/step - loss: 0.9665 - accuracy: 0.6276\n",
      "Epoch 21/180\n",
      "15/15 [==============================] - 0s 2ms/step - loss: 0.9743 - accuracy: 0.6339\n",
      "Epoch 22/180\n",
      "15/15 [==============================] - 0s 2ms/step - loss: 0.9186 - accuracy: 0.6674\n",
      "Epoch 23/180\n",
      "15/15 [==============================] - 0s 2ms/step - loss: 0.9746 - accuracy: 0.6192\n",
      "Epoch 24/180\n",
      "15/15 [==============================] - 0s 2ms/step - loss: 0.9226 - accuracy: 0.6151\n",
      "Epoch 25/180\n",
      "15/15 [==============================] - 0s 2ms/step - loss: 0.9345 - accuracy: 0.6297\n",
      "Epoch 26/180\n",
      "15/15 [==============================] - 0s 2ms/step - loss: 0.9126 - accuracy: 0.6590\n",
      "Epoch 27/180\n",
      "15/15 [==============================] - 0s 2ms/step - loss: 0.8932 - accuracy: 0.6464\n",
      "Epoch 28/180\n",
      "15/15 [==============================] - 0s 2ms/step - loss: 0.8818 - accuracy: 0.6695\n",
      "Epoch 29/180\n",
      "15/15 [==============================] - 0s 2ms/step - loss: 0.8663 - accuracy: 0.6799\n",
      "Epoch 30/180\n",
      "15/15 [==============================] - 0s 2ms/step - loss: 0.8328 - accuracy: 0.6653\n",
      "Epoch 31/180\n",
      "15/15 [==============================] - 0s 2ms/step - loss: 0.8469 - accuracy: 0.7029\n",
      "Epoch 32/180\n",
      "15/15 [==============================] - 0s 2ms/step - loss: 0.8180 - accuracy: 0.7071\n",
      "Epoch 33/180\n",
      "15/15 [==============================] - 0s 2ms/step - loss: 0.8212 - accuracy: 0.6967\n",
      "Epoch 34/180\n",
      "15/15 [==============================] - 0s 2ms/step - loss: 0.7999 - accuracy: 0.7176\n",
      "Epoch 35/180\n",
      "15/15 [==============================] - 0s 2ms/step - loss: 0.8303 - accuracy: 0.6904\n",
      "Epoch 36/180\n",
      "15/15 [==============================] - 0s 2ms/step - loss: 0.8008 - accuracy: 0.7029\n",
      "Epoch 37/180\n",
      "15/15 [==============================] - 0s 2ms/step - loss: 0.8184 - accuracy: 0.6967\n",
      "Epoch 38/180\n",
      "15/15 [==============================] - 0s 2ms/step - loss: 0.8261 - accuracy: 0.6946\n",
      "Epoch 39/180\n",
      "15/15 [==============================] - 0s 2ms/step - loss: 0.7669 - accuracy: 0.7218\n",
      "Epoch 40/180\n",
      "15/15 [==============================] - 0s 2ms/step - loss: 0.7784 - accuracy: 0.7113\n",
      "Epoch 41/180\n",
      "15/15 [==============================] - 0s 2ms/step - loss: 0.7437 - accuracy: 0.7259\n",
      "Epoch 42/180\n",
      "15/15 [==============================] - 0s 2ms/step - loss: 0.7997 - accuracy: 0.7259\n",
      "Epoch 43/180\n",
      "15/15 [==============================] - 0s 2ms/step - loss: 0.7506 - accuracy: 0.7322\n",
      "Epoch 44/180\n",
      "15/15 [==============================] - 0s 2ms/step - loss: 0.7099 - accuracy: 0.7448\n",
      "Epoch 45/180\n",
      "15/15 [==============================] - 0s 2ms/step - loss: 0.7550 - accuracy: 0.7427\n",
      "Epoch 46/180\n",
      "15/15 [==============================] - 0s 2ms/step - loss: 0.7361 - accuracy: 0.7406\n",
      "Epoch 47/180\n",
      "15/15 [==============================] - 0s 2ms/step - loss: 0.7008 - accuracy: 0.7490\n",
      "Epoch 48/180\n",
      "15/15 [==============================] - 0s 2ms/step - loss: 0.7365 - accuracy: 0.7406\n",
      "Epoch 49/180\n",
      "15/15 [==============================] - 0s 2ms/step - loss: 0.6607 - accuracy: 0.7678\n",
      "Epoch 50/180\n",
      "15/15 [==============================] - 0s 2ms/step - loss: 0.6852 - accuracy: 0.7657\n",
      "Epoch 51/180\n",
      "15/15 [==============================] - 0s 2ms/step - loss: 0.6866 - accuracy: 0.7678\n",
      "Epoch 52/180\n",
      "15/15 [==============================] - 0s 2ms/step - loss: 0.7048 - accuracy: 0.7469\n",
      "Epoch 53/180\n",
      "15/15 [==============================] - 0s 2ms/step - loss: 0.7140 - accuracy: 0.7197\n",
      "Epoch 54/180\n",
      "15/15 [==============================] - 0s 2ms/step - loss: 0.7217 - accuracy: 0.7636\n",
      "Epoch 55/180\n",
      "15/15 [==============================] - 0s 2ms/step - loss: 0.7239 - accuracy: 0.7448\n",
      "Epoch 56/180\n",
      "15/15 [==============================] - 0s 2ms/step - loss: 0.6982 - accuracy: 0.7573\n",
      "Epoch 57/180\n",
      "15/15 [==============================] - 0s 2ms/step - loss: 0.6755 - accuracy: 0.7699\n",
      "Epoch 58/180\n",
      "15/15 [==============================] - 0s 2ms/step - loss: 0.6781 - accuracy: 0.7657\n",
      "Epoch 59/180\n",
      "15/15 [==============================] - 0s 2ms/step - loss: 0.6708 - accuracy: 0.7594\n",
      "Epoch 60/180\n",
      "15/15 [==============================] - 0s 2ms/step - loss: 0.6672 - accuracy: 0.7762\n",
      "Epoch 61/180\n",
      "15/15 [==============================] - 0s 2ms/step - loss: 0.6717 - accuracy: 0.7510\n",
      "Epoch 62/180\n",
      "15/15 [==============================] - 0s 2ms/step - loss: 0.6707 - accuracy: 0.7657\n",
      "Epoch 63/180\n",
      "15/15 [==============================] - 0s 2ms/step - loss: 0.6472 - accuracy: 0.7741\n",
      "Epoch 64/180\n",
      "15/15 [==============================] - 0s 2ms/step - loss: 0.6262 - accuracy: 0.7887\n",
      "Epoch 65/180\n",
      "15/15 [==============================] - 0s 2ms/step - loss: 0.6556 - accuracy: 0.7866\n",
      "Epoch 66/180\n",
      "15/15 [==============================] - 0s 2ms/step - loss: 0.6350 - accuracy: 0.7908\n",
      "Epoch 67/180\n",
      "15/15 [==============================] - 0s 2ms/step - loss: 0.5914 - accuracy: 0.7908\n",
      "Epoch 68/180\n",
      "15/15 [==============================] - 0s 2ms/step - loss: 0.5808 - accuracy: 0.8201\n",
      "Epoch 69/180\n",
      "15/15 [==============================] - 0s 2ms/step - loss: 0.6444 - accuracy: 0.7908\n",
      "Epoch 70/180\n",
      "15/15 [==============================] - 0s 2ms/step - loss: 0.5529 - accuracy: 0.8264\n",
      "Epoch 71/180\n",
      "15/15 [==============================] - 0s 2ms/step - loss: 0.5731 - accuracy: 0.8075\n",
      "Epoch 72/180\n",
      "15/15 [==============================] - 0s 2ms/step - loss: 0.5351 - accuracy: 0.8201\n",
      "Epoch 73/180\n",
      "15/15 [==============================] - 0s 2ms/step - loss: 0.5960 - accuracy: 0.8096\n",
      "Epoch 74/180\n",
      "15/15 [==============================] - 0s 2ms/step - loss: 0.5378 - accuracy: 0.8326\n",
      "Epoch 75/180\n",
      "15/15 [==============================] - 0s 2ms/step - loss: 0.5824 - accuracy: 0.8054\n",
      "Epoch 76/180\n",
      "15/15 [==============================] - 0s 2ms/step - loss: 0.6063 - accuracy: 0.8033\n",
      "Epoch 77/180\n",
      "15/15 [==============================] - 0s 2ms/step - loss: 0.5696 - accuracy: 0.8033\n",
      "Epoch 78/180\n",
      "15/15 [==============================] - 0s 2ms/step - loss: 0.6567 - accuracy: 0.7887\n",
      "Epoch 79/180\n",
      "15/15 [==============================] - 0s 2ms/step - loss: 0.5912 - accuracy: 0.8013\n",
      "Epoch 80/180\n",
      "15/15 [==============================] - 0s 2ms/step - loss: 0.5518 - accuracy: 0.8410\n",
      "Epoch 81/180\n",
      "15/15 [==============================] - 0s 2ms/step - loss: 0.5808 - accuracy: 0.8117\n",
      "Epoch 82/180\n",
      "15/15 [==============================] - 0s 2ms/step - loss: 0.6128 - accuracy: 0.8054\n",
      "Epoch 83/180\n"
     ]
    },
    {
     "name": "stdout",
     "output_type": "stream",
     "text": [
      "15/15 [==============================] - 0s 2ms/step - loss: 0.5862 - accuracy: 0.8054\n",
      "Epoch 84/180\n",
      "15/15 [==============================] - 0s 2ms/step - loss: 0.5733 - accuracy: 0.8138\n",
      "Epoch 85/180\n",
      "15/15 [==============================] - 0s 2ms/step - loss: 0.5667 - accuracy: 0.8305\n",
      "Epoch 86/180\n",
      "15/15 [==============================] - 0s 2ms/step - loss: 0.5239 - accuracy: 0.8326\n",
      "Epoch 87/180\n",
      "15/15 [==============================] - 0s 2ms/step - loss: 0.5477 - accuracy: 0.8201\n",
      "Epoch 88/180\n",
      "15/15 [==============================] - 0s 2ms/step - loss: 0.6381 - accuracy: 0.7992\n",
      "Epoch 89/180\n",
      "15/15 [==============================] - 0s 2ms/step - loss: 0.5812 - accuracy: 0.8264\n",
      "Epoch 90/180\n",
      "15/15 [==============================] - 0s 2ms/step - loss: 0.5112 - accuracy: 0.8431\n",
      "Epoch 91/180\n",
      "15/15 [==============================] - 0s 2ms/step - loss: 0.5356 - accuracy: 0.8117\n",
      "Epoch 92/180\n",
      "15/15 [==============================] - 0s 2ms/step - loss: 0.5359 - accuracy: 0.8201\n",
      "Epoch 93/180\n",
      "15/15 [==============================] - 0s 2ms/step - loss: 0.4526 - accuracy: 0.8536\n",
      "Epoch 94/180\n",
      "15/15 [==============================] - 0s 2ms/step - loss: 0.5249 - accuracy: 0.8243\n",
      "Epoch 95/180\n",
      "15/15 [==============================] - 0s 2ms/step - loss: 0.5244 - accuracy: 0.8410\n",
      "Epoch 96/180\n",
      "15/15 [==============================] - 0s 2ms/step - loss: 0.5591 - accuracy: 0.8243\n",
      "Epoch 97/180\n",
      "15/15 [==============================] - 0s 2ms/step - loss: 0.4869 - accuracy: 0.8473\n",
      "Epoch 98/180\n",
      "15/15 [==============================] - 0s 2ms/step - loss: 0.4367 - accuracy: 0.8661\n",
      "Epoch 99/180\n",
      "15/15 [==============================] - 0s 2ms/step - loss: 0.4861 - accuracy: 0.8410\n",
      "Epoch 100/180\n",
      "15/15 [==============================] - 0s 2ms/step - loss: 0.5217 - accuracy: 0.8368\n",
      "Epoch 101/180\n",
      "15/15 [==============================] - 0s 2ms/step - loss: 0.5303 - accuracy: 0.8347\n",
      "Epoch 102/180\n",
      "15/15 [==============================] - 0s 2ms/step - loss: 0.4646 - accuracy: 0.8577\n",
      "Epoch 103/180\n",
      "15/15 [==============================] - 0s 2ms/step - loss: 0.5063 - accuracy: 0.8264\n",
      "Epoch 104/180\n",
      "15/15 [==============================] - 0s 2ms/step - loss: 0.5091 - accuracy: 0.8305\n",
      "Epoch 105/180\n",
      "15/15 [==============================] - 0s 2ms/step - loss: 0.5262 - accuracy: 0.8452\n",
      "Epoch 106/180\n",
      "15/15 [==============================] - 0s 2ms/step - loss: 0.4921 - accuracy: 0.8264\n",
      "Epoch 107/180\n",
      "15/15 [==============================] - 0s 2ms/step - loss: 0.5083 - accuracy: 0.8138\n",
      "Epoch 108/180\n",
      "15/15 [==============================] - 0s 2ms/step - loss: 0.5158 - accuracy: 0.8222\n",
      "Epoch 109/180\n",
      "15/15 [==============================] - 0s 2ms/step - loss: 0.5505 - accuracy: 0.8096\n",
      "Epoch 110/180\n",
      "15/15 [==============================] - 0s 2ms/step - loss: 0.5003 - accuracy: 0.8201\n",
      "Epoch 111/180\n",
      "15/15 [==============================] - 0s 2ms/step - loss: 0.4657 - accuracy: 0.8598\n",
      "Epoch 112/180\n",
      "15/15 [==============================] - 0s 2ms/step - loss: 0.4649 - accuracy: 0.8556\n",
      "Epoch 113/180\n",
      "15/15 [==============================] - 0s 2ms/step - loss: 0.5170 - accuracy: 0.8515\n",
      "Epoch 114/180\n",
      "15/15 [==============================] - 0s 2ms/step - loss: 0.4967 - accuracy: 0.8452\n",
      "Epoch 115/180\n",
      "15/15 [==============================] - 0s 2ms/step - loss: 0.5280 - accuracy: 0.8180\n",
      "Epoch 116/180\n",
      "15/15 [==============================] - 0s 2ms/step - loss: 0.4763 - accuracy: 0.8556\n",
      "Epoch 117/180\n",
      "15/15 [==============================] - 0s 2ms/step - loss: 0.4538 - accuracy: 0.8724\n",
      "Epoch 118/180\n",
      "15/15 [==============================] - 0s 2ms/step - loss: 0.4584 - accuracy: 0.8431\n",
      "Epoch 119/180\n",
      "15/15 [==============================] - 0s 2ms/step - loss: 0.5005 - accuracy: 0.8515\n",
      "Epoch 120/180\n",
      "15/15 [==============================] - 0s 2ms/step - loss: 0.4752 - accuracy: 0.8536\n",
      "Epoch 121/180\n",
      "15/15 [==============================] - 0s 2ms/step - loss: 0.5251 - accuracy: 0.8515\n",
      "Epoch 122/180\n",
      "15/15 [==============================] - 0s 2ms/step - loss: 0.4531 - accuracy: 0.8745\n",
      "Epoch 123/180\n",
      "15/15 [==============================] - 0s 2ms/step - loss: 0.4182 - accuracy: 0.8724\n",
      "Epoch 124/180\n",
      "15/15 [==============================] - 0s 2ms/step - loss: 0.4807 - accuracy: 0.8577\n",
      "Epoch 125/180\n",
      "15/15 [==============================] - 0s 2ms/step - loss: 0.4222 - accuracy: 0.8787\n",
      "Epoch 126/180\n",
      "15/15 [==============================] - 0s 2ms/step - loss: 0.4810 - accuracy: 0.8745\n",
      "Epoch 127/180\n",
      "15/15 [==============================] - 0s 2ms/step - loss: 0.4549 - accuracy: 0.8661\n",
      "Epoch 128/180\n",
      "15/15 [==============================] - 0s 2ms/step - loss: 0.4551 - accuracy: 0.8515\n",
      "Epoch 129/180\n",
      "15/15 [==============================] - 0s 2ms/step - loss: 0.4255 - accuracy: 0.8661\n",
      "Epoch 130/180\n",
      "15/15 [==============================] - 0s 2ms/step - loss: 0.3492 - accuracy: 0.9017\n",
      "Epoch 131/180\n",
      "15/15 [==============================] - 0s 2ms/step - loss: 0.4312 - accuracy: 0.8808\n",
      "Epoch 132/180\n",
      "15/15 [==============================] - 0s 2ms/step - loss: 0.4858 - accuracy: 0.8703\n",
      "Epoch 133/180\n",
      "15/15 [==============================] - 0s 2ms/step - loss: 0.4566 - accuracy: 0.8808\n",
      "Epoch 134/180\n",
      "15/15 [==============================] - 0s 2ms/step - loss: 0.4489 - accuracy: 0.8452\n",
      "Epoch 135/180\n",
      "15/15 [==============================] - 0s 2ms/step - loss: 0.4517 - accuracy: 0.8661\n",
      "Epoch 136/180\n",
      "15/15 [==============================] - 0s 2ms/step - loss: 0.4311 - accuracy: 0.8577\n",
      "Epoch 137/180\n",
      "15/15 [==============================] - 0s 2ms/step - loss: 0.4171 - accuracy: 0.8703\n",
      "Epoch 138/180\n",
      "15/15 [==============================] - 0s 2ms/step - loss: 0.4849 - accuracy: 0.8724\n",
      "Epoch 139/180\n",
      "15/15 [==============================] - 0s 2ms/step - loss: 0.4080 - accuracy: 0.8473\n",
      "Epoch 140/180\n",
      "15/15 [==============================] - 0s 2ms/step - loss: 0.4185 - accuracy: 0.8745\n",
      "Epoch 141/180\n",
      "15/15 [==============================] - 0s 2ms/step - loss: 0.4483 - accuracy: 0.8598\n",
      "Epoch 142/180\n",
      "15/15 [==============================] - 0s 2ms/step - loss: 0.4933 - accuracy: 0.8745\n",
      "Epoch 143/180\n",
      "15/15 [==============================] - 0s 2ms/step - loss: 0.4851 - accuracy: 0.8556\n",
      "Epoch 144/180\n",
      "15/15 [==============================] - 0s 2ms/step - loss: 0.4262 - accuracy: 0.8724\n",
      "Epoch 145/180\n",
      "15/15 [==============================] - 0s 2ms/step - loss: 0.3943 - accuracy: 0.8912\n",
      "Epoch 146/180\n",
      "15/15 [==============================] - 0s 2ms/step - loss: 0.4363 - accuracy: 0.8473\n",
      "Epoch 147/180\n",
      "15/15 [==============================] - 0s 2ms/step - loss: 0.3778 - accuracy: 0.8954\n",
      "Epoch 148/180\n",
      "15/15 [==============================] - 0s 2ms/step - loss: 0.4704 - accuracy: 0.8661\n",
      "Epoch 149/180\n",
      "15/15 [==============================] - 0s 2ms/step - loss: 0.3919 - accuracy: 0.8891\n",
      "Epoch 150/180\n",
      "15/15 [==============================] - 0s 2ms/step - loss: 0.4432 - accuracy: 0.8682\n",
      "Epoch 151/180\n",
      "15/15 [==============================] - 0s 2ms/step - loss: 0.4291 - accuracy: 0.8724\n",
      "Epoch 152/180\n",
      "15/15 [==============================] - 0s 2ms/step - loss: 0.4845 - accuracy: 0.8640\n",
      "Epoch 153/180\n",
      "15/15 [==============================] - 0s 2ms/step - loss: 0.4256 - accuracy: 0.8766\n",
      "Epoch 154/180\n",
      "15/15 [==============================] - 0s 2ms/step - loss: 0.4363 - accuracy: 0.8682\n",
      "Epoch 155/180\n",
      "15/15 [==============================] - 0s 2ms/step - loss: 0.4608 - accuracy: 0.8724\n",
      "Epoch 156/180\n",
      "15/15 [==============================] - 0s 2ms/step - loss: 0.4552 - accuracy: 0.8745\n",
      "Epoch 157/180\n",
      "15/15 [==============================] - 0s 2ms/step - loss: 0.4190 - accuracy: 0.8787\n",
      "Epoch 158/180\n",
      "15/15 [==============================] - 0s 2ms/step - loss: 0.4378 - accuracy: 0.8640\n",
      "Epoch 159/180\n",
      "15/15 [==============================] - 0s 2ms/step - loss: 0.3833 - accuracy: 0.8808\n",
      "Epoch 160/180\n",
      "15/15 [==============================] - 0s 2ms/step - loss: 0.4202 - accuracy: 0.8808\n",
      "Epoch 161/180\n",
      "15/15 [==============================] - 0s 2ms/step - loss: 0.4028 - accuracy: 0.8891\n",
      "Epoch 162/180\n",
      "15/15 [==============================] - 0s 2ms/step - loss: 0.4030 - accuracy: 0.8787\n",
      "Epoch 163/180\n",
      "15/15 [==============================] - 0s 2ms/step - loss: 0.4222 - accuracy: 0.8745\n",
      "Epoch 164/180\n"
     ]
    },
    {
     "name": "stdout",
     "output_type": "stream",
     "text": [
      "15/15 [==============================] - 0s 2ms/step - loss: 0.3898 - accuracy: 0.8849\n",
      "Epoch 165/180\n",
      "15/15 [==============================] - 0s 2ms/step - loss: 0.4482 - accuracy: 0.8745\n",
      "Epoch 166/180\n",
      "15/15 [==============================] - 0s 2ms/step - loss: 0.4294 - accuracy: 0.8787\n",
      "Epoch 167/180\n",
      "15/15 [==============================] - 0s 2ms/step - loss: 0.4520 - accuracy: 0.8828\n",
      "Epoch 168/180\n",
      "15/15 [==============================] - 0s 2ms/step - loss: 0.4246 - accuracy: 0.8787\n",
      "Epoch 169/180\n",
      "15/15 [==============================] - 0s 2ms/step - loss: 0.3888 - accuracy: 0.8933\n",
      "Epoch 170/180\n",
      "15/15 [==============================] - 0s 2ms/step - loss: 0.4230 - accuracy: 0.8766\n",
      "Epoch 171/180\n",
      "15/15 [==============================] - 0s 2ms/step - loss: 0.4091 - accuracy: 0.8975\n",
      "Epoch 172/180\n",
      "15/15 [==============================] - 0s 2ms/step - loss: 0.4250 - accuracy: 0.8808\n",
      "Epoch 173/180\n",
      "15/15 [==============================] - 0s 2ms/step - loss: 0.3625 - accuracy: 0.8996\n",
      "Epoch 174/180\n",
      "15/15 [==============================] - 0s 2ms/step - loss: 0.4081 - accuracy: 0.8912\n",
      "Epoch 175/180\n",
      "15/15 [==============================] - 0s 2ms/step - loss: 0.4552 - accuracy: 0.8598\n",
      "Epoch 176/180\n",
      "15/15 [==============================] - 0s 2ms/step - loss: 0.3971 - accuracy: 0.8975\n",
      "Epoch 177/180\n",
      "15/15 [==============================] - 0s 2ms/step - loss: 0.4290 - accuracy: 0.8891\n",
      "Epoch 178/180\n",
      "15/15 [==============================] - 0s 2ms/step - loss: 0.3666 - accuracy: 0.8996\n",
      "Epoch 179/180\n",
      "15/15 [==============================] - 0s 2ms/step - loss: 0.4287 - accuracy: 0.8682\n",
      "Epoch 180/180\n",
      "15/15 [==============================] - 0s 2ms/step - loss: 0.4343 - accuracy: 0.8745\n"
     ]
    }
   ],
   "source": [
    "res = model_1.fit(X,y, epochs = 180, batch_size = 32)"
   ]
  },
  {
   "cell_type": "code",
   "execution_count": 188,
   "id": "81970d05",
   "metadata": {},
   "outputs": [
    {
     "data": {
      "image/png": "[encoded data removed]",
      "text/plain": [
       "<Figure size 432x288 with 1 Axes>"
      ]
     },
     "metadata": {
      "needs_background": "light"
     },
     "output_type": "display_data"
    }
   ],
   "source": [
    "plt.plot(res.epoch, res.history['accuracy'])\n",
    "plt.plot(res.epoch, res.history['loss'])\n",
    "plt.axhline(y=0)\n",
    "plt.axhline(y=1)\n",
    "plt.show()"
   ]
  },
  {
   "cell_type": "markdown",
   "id": "60e4be74",
   "metadata": {},
   "source": [
    "## Validate Results\n",
    "\n",
    "- Want to pick several Cinderella teams for bottom 4-6 predictions\n"
   ]
  }
 ],
 "metadata": {
  "kernelspec": {
   "display_name": "Python 3",
   "language": "python",
   "name": "python3"
  },
  "language_info": {
   "codemirror_mode": {
    "name": "ipython",
    "version": 3
   },
   "file_extension": ".py",
   "mimetype": "text/x-python",
   "name": "python",
   "nbconvert_exporter": "python",
   "pygments_lexer": "ipython3",
   "version": "3.6.8"
  }
 },
 "nbformat": 4,
 "nbformat_minor": 5
}
