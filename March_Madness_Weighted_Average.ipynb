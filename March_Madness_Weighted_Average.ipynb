{
 "cells": [
  {
   "cell_type": "markdown",
   "metadata": {},
   "source": [
    "# Weighted Averages for March Madness\n",
    "\n",
    "\n",
    "- Read in `scaled` and `pca` data and try weighted average search"
   ]
  },
  {
   "cell_type": "code",
   "execution_count": 1,
   "metadata": {},
   "outputs": [],
   "source": [
    "# import libraries\n",
    "import pandas as pd\n",
    "import numpy as np\n",
    "from mm_utils import calculate_score\n",
    "from sklearn.preprocessing import StandardScaler\n",
    "from sklearn.preprocessing import MinMaxScaler"
   ]
  },
  {
   "cell_type": "code",
   "execution_count": 2,
   "metadata": {},
   "outputs": [],
   "source": [
    "# read in data\n",
    "df_s = pd.read_csv(\"processed_data/scaled_data.csv\", index_col = 0)\n",
    "df_p = pd.read_csv(\"processed_data/pca_data.csv\", index_col = 0)"
   ]
  },
  {
   "cell_type": "code",
   "execution_count": 3,
   "metadata": {},
   "outputs": [],
   "source": [
    "# topCorrelations returns the column names of x(int) columns that have the highest R^2 correlation values to column cor\n",
    "def topCorrelations(x,df,cor):\n",
    "    top = df.corr()[cor]\n",
    "    top = top**2\n",
    "    return list(top.sort_values(ascending = False)[1:x+1].index)"
   ]
  },
  {
   "cell_type": "code",
   "execution_count": 4,
   "metadata": {},
   "outputs": [],
   "source": [
    "# scaleData scales the data in columns cols of dataframe df based on the kind of scaling selected\n",
    "def scaleData(df, cols, kind):\n",
    "    if kind == \"Std\":\n",
    "        for c in cols:\n",
    "            df[c] = StandardScaler().fit_transform(df[[c]])\n",
    "    elif kind == \"MinMax\":\n",
    "        for c in cols:\n",
    "            df[c] = MinMaxScaler((0,1)).fit_transform(df[[c]])\n",
    "    return df"
   ]
  },
  {
   "cell_type": "code",
   "execution_count": 5,
   "metadata": {},
   "outputs": [],
   "source": [
    "# weightTests tests each possible combination of coefficients for the weighted averages based on the coefficients in \n",
    "# coef_range, storing and returning the results in Dataframe results.\n",
    "# Dataframe df contains the columns that are going to be weighted, the total number of tournament wins, \n",
    "# Cinderella, and a Rank column for the calculated rank of each team.\n",
    "\n",
    "def weightTests(df, curr_coefs, coef_range, n_columns, results, scale, year):\n",
    "    # if final coef has been set\n",
    "    if len(curr_coefs) == n_columns:\n",
    "\n",
    "        # calculate new rank based on coefficients\n",
    "        df.loc[:,'Rank'] = 0\n",
    "        for cl in range(0, n_columns):\n",
    "            df.loc[:,'Rank'] += df.iloc[:,cl] * curr_coefs[cl]\n",
    "        # end for\n",
    "\n",
    "        # calculate new score\n",
    "        df = df.sort_values(['Rank'],ascending=False)\n",
    "        endScore = calculate_score(data = df)\n",
    "\n",
    "        # create new results entry\n",
    "        res = {\"Score\":endScore, 'Year':year, \"Scale\":scale}\n",
    "        for cl in range(n_columns):\n",
    "            res[df.columns[cl]] = curr_coefs[cl]\n",
    "        #end for\n",
    "\n",
    "        results = results.append(res, ignore_index = True)\n",
    "    # end if\n",
    "    \n",
    "    # need to set more coefficients\n",
    "    else:\n",
    "        for c in coef_range:\n",
    "            curr_coefs.append(c)\n",
    "            # call weightTests with new coefficients and same previous values\n",
    "            results = weightTests(df = df, curr_coefs = curr_coefs,\n",
    "                        coef_range = coef_range,results = results, \n",
    "                        n_columns = n_columns, year = year, scale = scale)\n",
    "            curr_coefs.pop()\n",
    "        #end for\n",
    "    #end else\n",
    "    \n",
    "    return results"
   ]
  },
  {
   "cell_type": "code",
   "execution_count": 6,
   "metadata": {},
   "outputs": [],
   "source": [
    "# runModel takes a number of correlations to look at (topCorr(int)), which column to correlate to (corVar),\n",
    "# range of weights (weightRange), a Dataframe (data), and the specific year of data (year).\n",
    "# runModel gets the top correlations, creates 2 copies of the data and scales them through MinMax and Standard scalers.\n",
    "# After this, weightTests are run on all 3 copies of the data and stored in the results dataframe that is subsequently\n",
    "# returned.\n",
    "\n",
    "def runModel(topCorr, weightRange, data, corVar, year):\n",
    "    # Get top correlation columns\n",
    "    cols = topCorrelations(x=topCorr,df=data.drop(['Cinderella'],axis=1),cor=corVar)\n",
    "    cols.append('Rank')\n",
    "    print(cols)\n",
    "    \n",
    "    # Create results dataframe\n",
    "    results = pd.DataFrame(columns = cols)\n",
    "    \n",
    "    \n",
    "    # Scale data Std\n",
    "    df_s = data.copy()\n",
    "    df_s = scaleData(df = df_s,cols = cols[:-1],kind = \"Std\")\n",
    "    # Scale data MinMax\n",
    "    df_m = data.copy()\n",
    "    df_m = scaleData(df = df_m, cols = cols[:-1],kind = \"MinMax\")\n",
    "    \n",
    "    cols.append(corVar)\n",
    "    if 'Cinderella' not in cols:\n",
    "        cols.append('Cinderella')\n",
    "        \n",
    "    data = data[cols]\n",
    "    df_s = df_s[cols]\n",
    "    df_m = df_m[cols]\n",
    "    \n",
    "    # normal tests\n",
    "    print(\"Normal Tests\", year)\n",
    "    results = results.append(weightTests(df = data, curr_coefs = [], coef_range = weightRange, \n",
    "                                         results = results, n_columns = topCorr, year = year, scale = \"None\"))\n",
    "    # std tests\n",
    "    print(\"Std Tests\", year)\n",
    "    results = results.append(weightTests(df = df_s, curr_coefs = [], coef_range = weightRange, \n",
    "                                        results = results, n_columns = topCorr, year = year, scale = \"Std\"))\n",
    "    # minmax tests\n",
    "    print(\"MinMax Tests\", year)\n",
    "    results = results.append(weightTests(df = df_m, curr_coefs = [], coef_range = weightRange, \n",
    "                                         results = results, n_columns = topCorr, year = year, scale = \"MinMax\"))\n",
    "    return results"
   ]
  },
  {
   "cell_type": "code",
   "execution_count": 7,
   "metadata": {},
   "outputs": [],
   "source": [
    "# Model parameters\n",
    "# weights range\n",
    "ranges = [0,0.25,0.5,0.75,1]\n",
    "# number of top features to use for making weighted average\n",
    "topCorr = 5\n",
    "# which column to correlate to\n",
    "corrTo = \"Number of Tournament Wins\""
   ]
  },
  {
   "cell_type": "code",
   "execution_count": 10,
   "metadata": {
    "scrolled": true
   },
   "outputs": [
    {
     "name": "stdout",
     "output_type": "stream",
     "text": [
      "['Wins vs Top Teams', 'Wins', 'Total Scoring Differential', 'ESPN Strength of Schedule', 'Scoring Differential Per Game', 'Rank']\n",
      "Normal Tests 2014\n"
     ]
    },
    {
     "name": "stderr",
     "output_type": "stream",
     "text": [
      "/home/lfwssl/MarchMadness/lib64/python3.6/site-packages/pandas/core/indexing.py:1763: SettingWithCopyWarning: \n",
      "A value is trying to be set on a copy of a slice from a DataFrame.\n",
      "Try using .loc[row_indexer,col_indexer] = value instead\n",
      "\n",
      "See the caveats in the documentation: https://pandas.pydata.org/pandas-docs/stable/user_guide/indexing.html#returning-a-view-versus-a-copy\n",
      "  isetter(loc, value)\n",
      "/home/lfwssl/MarchMadness/lib64/python3.6/site-packages/pandas/core/indexing.py:1743: SettingWithCopyWarning: \n",
      "A value is trying to be set on a copy of a slice from a DataFrame.\n",
      "Try using .loc[row_indexer,col_indexer] = value instead\n",
      "\n",
      "See the caveats in the documentation: https://pandas.pydata.org/pandas-docs/stable/user_guide/indexing.html#returning-a-view-versus-a-copy\n",
      "  isetter(ilocs[0], value)\n",
      "/home/lfwssl/MarchMadness/lib64/python3.6/site-packages/pandas/core/indexing.py:1781: SettingWithCopyWarning: \n",
      "A value is trying to be set on a copy of a slice from a DataFrame.\n",
      "Try using .loc[row_indexer,col_indexer] = value instead\n",
      "\n",
      "See the caveats in the documentation: https://pandas.pydata.org/pandas-docs/stable/user_guide/indexing.html#returning-a-view-versus-a-copy\n",
      "  self.obj[item_labels[indexer[info_axis]]] = value\n"
     ]
    },
    {
     "name": "stdout",
     "output_type": "stream",
     "text": [
      "Std Tests 2014\n",
      "MinMax Tests 2014\n",
      "['Total Scoring Differential', 'Scoring Differential Per Game', 'Wins vs Top Teams', 'Wins', 'ESPN Strength of Schedule', 'Rank']\n",
      "Normal Tests 2015\n"
     ]
    },
    {
     "name": "stderr",
     "output_type": "stream",
     "text": [
      "/home/lfwssl/MarchMadness/lib64/python3.6/site-packages/pandas/core/indexing.py:1763: SettingWithCopyWarning: \n",
      "A value is trying to be set on a copy of a slice from a DataFrame.\n",
      "Try using .loc[row_indexer,col_indexer] = value instead\n",
      "\n",
      "See the caveats in the documentation: https://pandas.pydata.org/pandas-docs/stable/user_guide/indexing.html#returning-a-view-versus-a-copy\n",
      "  isetter(loc, value)\n",
      "/home/lfwssl/MarchMadness/lib64/python3.6/site-packages/pandas/core/indexing.py:1743: SettingWithCopyWarning: \n",
      "A value is trying to be set on a copy of a slice from a DataFrame.\n",
      "Try using .loc[row_indexer,col_indexer] = value instead\n",
      "\n",
      "See the caveats in the documentation: https://pandas.pydata.org/pandas-docs/stable/user_guide/indexing.html#returning-a-view-versus-a-copy\n",
      "  isetter(ilocs[0], value)\n",
      "/home/lfwssl/MarchMadness/lib64/python3.6/site-packages/pandas/core/indexing.py:1781: SettingWithCopyWarning: \n",
      "A value is trying to be set on a copy of a slice from a DataFrame.\n",
      "Try using .loc[row_indexer,col_indexer] = value instead\n",
      "\n",
      "See the caveats in the documentation: https://pandas.pydata.org/pandas-docs/stable/user_guide/indexing.html#returning-a-view-versus-a-copy\n",
      "  self.obj[item_labels[indexer[info_axis]]] = value\n"
     ]
    },
    {
     "name": "stdout",
     "output_type": "stream",
     "text": [
      "Std Tests 2015\n",
      "MinMax Tests 2015\n",
      "['Wins vs Top Teams', 'Free Throw Percentage', 'ESPN Strength of Schedule', 'Wins', 'Losses', 'Rank']\n",
      "Normal Tests 2016\n"
     ]
    },
    {
     "name": "stderr",
     "output_type": "stream",
     "text": [
      "/home/lfwssl/MarchMadness/lib64/python3.6/site-packages/pandas/core/indexing.py:1763: SettingWithCopyWarning: \n",
      "A value is trying to be set on a copy of a slice from a DataFrame.\n",
      "Try using .loc[row_indexer,col_indexer] = value instead\n",
      "\n",
      "See the caveats in the documentation: https://pandas.pydata.org/pandas-docs/stable/user_guide/indexing.html#returning-a-view-versus-a-copy\n",
      "  isetter(loc, value)\n",
      "/home/lfwssl/MarchMadness/lib64/python3.6/site-packages/pandas/core/indexing.py:1743: SettingWithCopyWarning: \n",
      "A value is trying to be set on a copy of a slice from a DataFrame.\n",
      "Try using .loc[row_indexer,col_indexer] = value instead\n",
      "\n",
      "See the caveats in the documentation: https://pandas.pydata.org/pandas-docs/stable/user_guide/indexing.html#returning-a-view-versus-a-copy\n",
      "  isetter(ilocs[0], value)\n",
      "/home/lfwssl/MarchMadness/lib64/python3.6/site-packages/pandas/core/indexing.py:1781: SettingWithCopyWarning: \n",
      "A value is trying to be set on a copy of a slice from a DataFrame.\n",
      "Try using .loc[row_indexer,col_indexer] = value instead\n",
      "\n",
      "See the caveats in the documentation: https://pandas.pydata.org/pandas-docs/stable/user_guide/indexing.html#returning-a-view-versus-a-copy\n",
      "  self.obj[item_labels[indexer[info_axis]]] = value\n"
     ]
    },
    {
     "name": "stdout",
     "output_type": "stream",
     "text": [
      "Std Tests 2016\n",
      "MinMax Tests 2016\n",
      "['Wins vs Top Teams', 'Total Scoring Differential', 'Scoring Differential Per Game', 'ESPN Strength of Schedule', 'Rebound Differential', 'Rank']\n",
      "Normal Tests 2017\n"
     ]
    },
    {
     "name": "stderr",
     "output_type": "stream",
     "text": [
      "/home/lfwssl/MarchMadness/lib64/python3.6/site-packages/pandas/core/indexing.py:1763: SettingWithCopyWarning: \n",
      "A value is trying to be set on a copy of a slice from a DataFrame.\n",
      "Try using .loc[row_indexer,col_indexer] = value instead\n",
      "\n",
      "See the caveats in the documentation: https://pandas.pydata.org/pandas-docs/stable/user_guide/indexing.html#returning-a-view-versus-a-copy\n",
      "  isetter(loc, value)\n",
      "/home/lfwssl/MarchMadness/lib64/python3.6/site-packages/pandas/core/indexing.py:1743: SettingWithCopyWarning: \n",
      "A value is trying to be set on a copy of a slice from a DataFrame.\n",
      "Try using .loc[row_indexer,col_indexer] = value instead\n",
      "\n",
      "See the caveats in the documentation: https://pandas.pydata.org/pandas-docs/stable/user_guide/indexing.html#returning-a-view-versus-a-copy\n",
      "  isetter(ilocs[0], value)\n",
      "/home/lfwssl/MarchMadness/lib64/python3.6/site-packages/pandas/core/indexing.py:1781: SettingWithCopyWarning: \n",
      "A value is trying to be set on a copy of a slice from a DataFrame.\n",
      "Try using .loc[row_indexer,col_indexer] = value instead\n",
      "\n",
      "See the caveats in the documentation: https://pandas.pydata.org/pandas-docs/stable/user_guide/indexing.html#returning-a-view-versus-a-copy\n",
      "  self.obj[item_labels[indexer[info_axis]]] = value\n"
     ]
    },
    {
     "name": "stdout",
     "output_type": "stream",
     "text": [
      "Std Tests 2017\n",
      "MinMax Tests 2017\n",
      "['ESPN Strength of Schedule', 'Total Scoring Differential', 'Scoring Differential Per Game', 'Wins', 'Wins vs Top Teams', 'Rank']\n",
      "Normal Tests 2018\n"
     ]
    },
    {
     "name": "stderr",
     "output_type": "stream",
     "text": [
      "/home/lfwssl/MarchMadness/lib64/python3.6/site-packages/pandas/core/indexing.py:1763: SettingWithCopyWarning: \n",
      "A value is trying to be set on a copy of a slice from a DataFrame.\n",
      "Try using .loc[row_indexer,col_indexer] = value instead\n",
      "\n",
      "See the caveats in the documentation: https://pandas.pydata.org/pandas-docs/stable/user_guide/indexing.html#returning-a-view-versus-a-copy\n",
      "  isetter(loc, value)\n",
      "/home/lfwssl/MarchMadness/lib64/python3.6/site-packages/pandas/core/indexing.py:1743: SettingWithCopyWarning: \n",
      "A value is trying to be set on a copy of a slice from a DataFrame.\n",
      "Try using .loc[row_indexer,col_indexer] = value instead\n",
      "\n",
      "See the caveats in the documentation: https://pandas.pydata.org/pandas-docs/stable/user_guide/indexing.html#returning-a-view-versus-a-copy\n",
      "  isetter(ilocs[0], value)\n",
      "/home/lfwssl/MarchMadness/lib64/python3.6/site-packages/pandas/core/indexing.py:1781: SettingWithCopyWarning: \n",
      "A value is trying to be set on a copy of a slice from a DataFrame.\n",
      "Try using .loc[row_indexer,col_indexer] = value instead\n",
      "\n",
      "See the caveats in the documentation: https://pandas.pydata.org/pandas-docs/stable/user_guide/indexing.html#returning-a-view-versus-a-copy\n",
      "  self.obj[item_labels[indexer[info_axis]]] = value\n"
     ]
    },
    {
     "name": "stdout",
     "output_type": "stream",
     "text": [
      "Std Tests 2018\n",
      "MinMax Tests 2018\n",
      "['Wins vs Top Teams', 'Scoring Differential Per Game', 'Total Scoring Differential', 'ESPN Strength of Schedule', 'Losses', 'Rank']\n",
      "Normal Tests 2019\n"
     ]
    },
    {
     "name": "stderr",
     "output_type": "stream",
     "text": [
      "/home/lfwssl/MarchMadness/lib64/python3.6/site-packages/pandas/core/indexing.py:1763: SettingWithCopyWarning: \n",
      "A value is trying to be set on a copy of a slice from a DataFrame.\n",
      "Try using .loc[row_indexer,col_indexer] = value instead\n",
      "\n",
      "See the caveats in the documentation: https://pandas.pydata.org/pandas-docs/stable/user_guide/indexing.html#returning-a-view-versus-a-copy\n",
      "  isetter(loc, value)\n",
      "/home/lfwssl/MarchMadness/lib64/python3.6/site-packages/pandas/core/indexing.py:1743: SettingWithCopyWarning: \n",
      "A value is trying to be set on a copy of a slice from a DataFrame.\n",
      "Try using .loc[row_indexer,col_indexer] = value instead\n",
      "\n",
      "See the caveats in the documentation: https://pandas.pydata.org/pandas-docs/stable/user_guide/indexing.html#returning-a-view-versus-a-copy\n",
      "  isetter(ilocs[0], value)\n",
      "/home/lfwssl/MarchMadness/lib64/python3.6/site-packages/pandas/core/indexing.py:1781: SettingWithCopyWarning: \n",
      "A value is trying to be set on a copy of a slice from a DataFrame.\n",
      "Try using .loc[row_indexer,col_indexer] = value instead\n",
      "\n",
      "See the caveats in the documentation: https://pandas.pydata.org/pandas-docs/stable/user_guide/indexing.html#returning-a-view-versus-a-copy\n",
      "  self.obj[item_labels[indexer[info_axis]]] = value\n"
     ]
    },
    {
     "name": "stdout",
     "output_type": "stream",
     "text": [
      "Std Tests 2019\n",
      "MinMax Tests 2019\n",
      "['Average PPG', 'Total Scoring Differential', 'Scoring Differential Per Game', 'Total Points', '3-Point Percentage', 'Rank']\n",
      "Normal Tests 2021\n"
     ]
    },
    {
     "name": "stderr",
     "output_type": "stream",
     "text": [
      "/home/lfwssl/MarchMadness/lib64/python3.6/site-packages/pandas/core/indexing.py:1763: SettingWithCopyWarning: \n",
      "A value is trying to be set on a copy of a slice from a DataFrame.\n",
      "Try using .loc[row_indexer,col_indexer] = value instead\n",
      "\n",
      "See the caveats in the documentation: https://pandas.pydata.org/pandas-docs/stable/user_guide/indexing.html#returning-a-view-versus-a-copy\n",
      "  isetter(loc, value)\n",
      "/home/lfwssl/MarchMadness/lib64/python3.6/site-packages/pandas/core/indexing.py:1743: SettingWithCopyWarning: \n",
      "A value is trying to be set on a copy of a slice from a DataFrame.\n",
      "Try using .loc[row_indexer,col_indexer] = value instead\n",
      "\n",
      "See the caveats in the documentation: https://pandas.pydata.org/pandas-docs/stable/user_guide/indexing.html#returning-a-view-versus-a-copy\n",
      "  isetter(ilocs[0], value)\n",
      "/home/lfwssl/MarchMadness/lib64/python3.6/site-packages/pandas/core/indexing.py:1781: SettingWithCopyWarning: \n",
      "A value is trying to be set on a copy of a slice from a DataFrame.\n",
      "Try using .loc[row_indexer,col_indexer] = value instead\n",
      "\n",
      "See the caveats in the documentation: https://pandas.pydata.org/pandas-docs/stable/user_guide/indexing.html#returning-a-view-versus-a-copy\n",
      "  self.obj[item_labels[indexer[info_axis]]] = value\n"
     ]
    },
    {
     "name": "stdout",
     "output_type": "stream",
     "text": [
      "Std Tests 2021\n",
      "MinMax Tests 2021\n"
     ]
    }
   ],
   "source": [
    "# run tests on each year of data and store in an excel file \n",
    "results = pd.DataFrame()\n",
    "df_s['Rank'] = 0\n",
    "# loop through years\n",
    "for y in df_s['Year'].unique():\n",
    "    yr = df_s[df_s['Year'] == y]\n",
    "    results = results.append(runModel(topCorr = topCorr, weightRange = ranges, data = yr.copy(), corVar = corrTo, year = y).copy())\n",
    "\n",
    "# save results to excel\n",
    "results.to_csv(\"./processed_data/Weighted_Results.csv\")"
   ]
  },
  {
   "cell_type": "code",
   "execution_count": 11,
   "metadata": {},
   "outputs": [
    {
     "name": "stdout",
     "output_type": "stream",
     "text": [
      "['Win-Loss_0', 'Scoring Differential_0', 'Schedule_0', 'PPG_1', 'Free Throw-Rebound_1', 'Rank']\n",
      "Normal Tests 2014\n"
     ]
    },
    {
     "name": "stderr",
     "output_type": "stream",
     "text": [
      "/home/lfwssl/MarchMadness/lib64/python3.6/site-packages/pandas/core/indexing.py:1763: SettingWithCopyWarning: \n",
      "A value is trying to be set on a copy of a slice from a DataFrame.\n",
      "Try using .loc[row_indexer,col_indexer] = value instead\n",
      "\n",
      "See the caveats in the documentation: https://pandas.pydata.org/pandas-docs/stable/user_guide/indexing.html#returning-a-view-versus-a-copy\n",
      "  isetter(loc, value)\n",
      "/home/lfwssl/MarchMadness/lib64/python3.6/site-packages/pandas/core/indexing.py:1743: SettingWithCopyWarning: \n",
      "A value is trying to be set on a copy of a slice from a DataFrame.\n",
      "Try using .loc[row_indexer,col_indexer] = value instead\n",
      "\n",
      "See the caveats in the documentation: https://pandas.pydata.org/pandas-docs/stable/user_guide/indexing.html#returning-a-view-versus-a-copy\n",
      "  isetter(ilocs[0], value)\n",
      "/home/lfwssl/MarchMadness/lib64/python3.6/site-packages/pandas/core/indexing.py:1781: SettingWithCopyWarning: \n",
      "A value is trying to be set on a copy of a slice from a DataFrame.\n",
      "Try using .loc[row_indexer,col_indexer] = value instead\n",
      "\n",
      "See the caveats in the documentation: https://pandas.pydata.org/pandas-docs/stable/user_guide/indexing.html#returning-a-view-versus-a-copy\n",
      "  self.obj[item_labels[indexer[info_axis]]] = value\n"
     ]
    },
    {
     "name": "stdout",
     "output_type": "stream",
     "text": [
      "Std Tests 2014\n",
      "MinMax Tests 2014\n",
      "['Scoring Differential_0', 'Win-Loss_0', 'Assist_0', 'Schedule_0', 'Free Throw-Rebound_1', 'Rank']\n",
      "Normal Tests 2015\n"
     ]
    },
    {
     "name": "stderr",
     "output_type": "stream",
     "text": [
      "/home/lfwssl/MarchMadness/lib64/python3.6/site-packages/pandas/core/indexing.py:1763: SettingWithCopyWarning: \n",
      "A value is trying to be set on a copy of a slice from a DataFrame.\n",
      "Try using .loc[row_indexer,col_indexer] = value instead\n",
      "\n",
      "See the caveats in the documentation: https://pandas.pydata.org/pandas-docs/stable/user_guide/indexing.html#returning-a-view-versus-a-copy\n",
      "  isetter(loc, value)\n",
      "/home/lfwssl/MarchMadness/lib64/python3.6/site-packages/pandas/core/indexing.py:1743: SettingWithCopyWarning: \n",
      "A value is trying to be set on a copy of a slice from a DataFrame.\n",
      "Try using .loc[row_indexer,col_indexer] = value instead\n",
      "\n",
      "See the caveats in the documentation: https://pandas.pydata.org/pandas-docs/stable/user_guide/indexing.html#returning-a-view-versus-a-copy\n",
      "  isetter(ilocs[0], value)\n",
      "/home/lfwssl/MarchMadness/lib64/python3.6/site-packages/pandas/core/indexing.py:1781: SettingWithCopyWarning: \n",
      "A value is trying to be set on a copy of a slice from a DataFrame.\n",
      "Try using .loc[row_indexer,col_indexer] = value instead\n",
      "\n",
      "See the caveats in the documentation: https://pandas.pydata.org/pandas-docs/stable/user_guide/indexing.html#returning-a-view-versus-a-copy\n",
      "  self.obj[item_labels[indexer[info_axis]]] = value\n"
     ]
    },
    {
     "name": "stdout",
     "output_type": "stream",
     "text": [
      "Std Tests 2015\n",
      "MinMax Tests 2015\n",
      "['Schedule_0', 'Win-Loss_0', 'Scoring Differential_0', 'Free Throw-Rebound_2', 'Assist_0', 'Rank']\n",
      "Normal Tests 2016\n"
     ]
    },
    {
     "name": "stderr",
     "output_type": "stream",
     "text": [
      "/home/lfwssl/MarchMadness/lib64/python3.6/site-packages/pandas/core/indexing.py:1763: SettingWithCopyWarning: \n",
      "A value is trying to be set on a copy of a slice from a DataFrame.\n",
      "Try using .loc[row_indexer,col_indexer] = value instead\n",
      "\n",
      "See the caveats in the documentation: https://pandas.pydata.org/pandas-docs/stable/user_guide/indexing.html#returning-a-view-versus-a-copy\n",
      "  isetter(loc, value)\n",
      "/home/lfwssl/MarchMadness/lib64/python3.6/site-packages/pandas/core/indexing.py:1743: SettingWithCopyWarning: \n",
      "A value is trying to be set on a copy of a slice from a DataFrame.\n",
      "Try using .loc[row_indexer,col_indexer] = value instead\n",
      "\n",
      "See the caveats in the documentation: https://pandas.pydata.org/pandas-docs/stable/user_guide/indexing.html#returning-a-view-versus-a-copy\n",
      "  isetter(ilocs[0], value)\n",
      "/home/lfwssl/MarchMadness/lib64/python3.6/site-packages/pandas/core/indexing.py:1781: SettingWithCopyWarning: \n",
      "A value is trying to be set on a copy of a slice from a DataFrame.\n",
      "Try using .loc[row_indexer,col_indexer] = value instead\n",
      "\n",
      "See the caveats in the documentation: https://pandas.pydata.org/pandas-docs/stable/user_guide/indexing.html#returning-a-view-versus-a-copy\n",
      "  self.obj[item_labels[indexer[info_axis]]] = value\n"
     ]
    },
    {
     "name": "stdout",
     "output_type": "stream",
     "text": [
      "Std Tests 2016\n",
      "MinMax Tests 2016\n",
      "['Scoring Differential_0', 'Schedule_0', 'Win-Loss_0', 'Free Throw-Rebound_1', 'Assist_0', 'Rank']\n",
      "Normal Tests 2017\n"
     ]
    },
    {
     "name": "stderr",
     "output_type": "stream",
     "text": [
      "/home/lfwssl/MarchMadness/lib64/python3.6/site-packages/pandas/core/indexing.py:1763: SettingWithCopyWarning: \n",
      "A value is trying to be set on a copy of a slice from a DataFrame.\n",
      "Try using .loc[row_indexer,col_indexer] = value instead\n",
      "\n",
      "See the caveats in the documentation: https://pandas.pydata.org/pandas-docs/stable/user_guide/indexing.html#returning-a-view-versus-a-copy\n",
      "  isetter(loc, value)\n",
      "/home/lfwssl/MarchMadness/lib64/python3.6/site-packages/pandas/core/indexing.py:1743: SettingWithCopyWarning: \n",
      "A value is trying to be set on a copy of a slice from a DataFrame.\n",
      "Try using .loc[row_indexer,col_indexer] = value instead\n",
      "\n",
      "See the caveats in the documentation: https://pandas.pydata.org/pandas-docs/stable/user_guide/indexing.html#returning-a-view-versus-a-copy\n",
      "  isetter(ilocs[0], value)\n",
      "/home/lfwssl/MarchMadness/lib64/python3.6/site-packages/pandas/core/indexing.py:1781: SettingWithCopyWarning: \n",
      "A value is trying to be set on a copy of a slice from a DataFrame.\n",
      "Try using .loc[row_indexer,col_indexer] = value instead\n",
      "\n",
      "See the caveats in the documentation: https://pandas.pydata.org/pandas-docs/stable/user_guide/indexing.html#returning-a-view-versus-a-copy\n",
      "  self.obj[item_labels[indexer[info_axis]]] = value\n"
     ]
    },
    {
     "name": "stdout",
     "output_type": "stream",
     "text": [
      "Std Tests 2017\n",
      "MinMax Tests 2017\n",
      "['Scoring Differential_0', 'Win-Loss_0', 'Schedule_0', 'Assist_0', 'PPG_1', 'Rank']\n",
      "Normal Tests 2018\n"
     ]
    },
    {
     "name": "stderr",
     "output_type": "stream",
     "text": [
      "/home/lfwssl/MarchMadness/lib64/python3.6/site-packages/pandas/core/indexing.py:1763: SettingWithCopyWarning: \n",
      "A value is trying to be set on a copy of a slice from a DataFrame.\n",
      "Try using .loc[row_indexer,col_indexer] = value instead\n",
      "\n",
      "See the caveats in the documentation: https://pandas.pydata.org/pandas-docs/stable/user_guide/indexing.html#returning-a-view-versus-a-copy\n",
      "  isetter(loc, value)\n",
      "/home/lfwssl/MarchMadness/lib64/python3.6/site-packages/pandas/core/indexing.py:1743: SettingWithCopyWarning: \n",
      "A value is trying to be set on a copy of a slice from a DataFrame.\n",
      "Try using .loc[row_indexer,col_indexer] = value instead\n",
      "\n",
      "See the caveats in the documentation: https://pandas.pydata.org/pandas-docs/stable/user_guide/indexing.html#returning-a-view-versus-a-copy\n",
      "  isetter(ilocs[0], value)\n",
      "/home/lfwssl/MarchMadness/lib64/python3.6/site-packages/pandas/core/indexing.py:1781: SettingWithCopyWarning: \n",
      "A value is trying to be set on a copy of a slice from a DataFrame.\n",
      "Try using .loc[row_indexer,col_indexer] = value instead\n",
      "\n",
      "See the caveats in the documentation: https://pandas.pydata.org/pandas-docs/stable/user_guide/indexing.html#returning-a-view-versus-a-copy\n",
      "  self.obj[item_labels[indexer[info_axis]]] = value\n"
     ]
    },
    {
     "name": "stdout",
     "output_type": "stream",
     "text": [
      "Std Tests 2018\n",
      "MinMax Tests 2018\n",
      "['Scoring Differential_0', 'Schedule_0', 'Win-Loss_0', 'Assist_0', 'Free Throw-Rebound_1', 'Rank']\n",
      "Normal Tests 2019\n"
     ]
    },
    {
     "name": "stderr",
     "output_type": "stream",
     "text": [
      "/home/lfwssl/MarchMadness/lib64/python3.6/site-packages/pandas/core/indexing.py:1763: SettingWithCopyWarning: \n",
      "A value is trying to be set on a copy of a slice from a DataFrame.\n",
      "Try using .loc[row_indexer,col_indexer] = value instead\n",
      "\n",
      "See the caveats in the documentation: https://pandas.pydata.org/pandas-docs/stable/user_guide/indexing.html#returning-a-view-versus-a-copy\n",
      "  isetter(loc, value)\n",
      "/home/lfwssl/MarchMadness/lib64/python3.6/site-packages/pandas/core/indexing.py:1743: SettingWithCopyWarning: \n",
      "A value is trying to be set on a copy of a slice from a DataFrame.\n",
      "Try using .loc[row_indexer,col_indexer] = value instead\n",
      "\n",
      "See the caveats in the documentation: https://pandas.pydata.org/pandas-docs/stable/user_guide/indexing.html#returning-a-view-versus-a-copy\n",
      "  isetter(ilocs[0], value)\n",
      "/home/lfwssl/MarchMadness/lib64/python3.6/site-packages/pandas/core/indexing.py:1781: SettingWithCopyWarning: \n",
      "A value is trying to be set on a copy of a slice from a DataFrame.\n",
      "Try using .loc[row_indexer,col_indexer] = value instead\n",
      "\n",
      "See the caveats in the documentation: https://pandas.pydata.org/pandas-docs/stable/user_guide/indexing.html#returning-a-view-versus-a-copy\n",
      "  self.obj[item_labels[indexer[info_axis]]] = value\n"
     ]
    },
    {
     "name": "stdout",
     "output_type": "stream",
     "text": [
      "Std Tests 2019\n",
      "MinMax Tests 2019\n",
      "['Scoring Differential_0', 'PPG_0', 'Win-Loss_0', '3pt_0', 'Assist_0', 'Rank']\n",
      "Normal Tests 2021\n"
     ]
    },
    {
     "name": "stderr",
     "output_type": "stream",
     "text": [
      "/home/lfwssl/MarchMadness/lib64/python3.6/site-packages/pandas/core/indexing.py:1763: SettingWithCopyWarning: \n",
      "A value is trying to be set on a copy of a slice from a DataFrame.\n",
      "Try using .loc[row_indexer,col_indexer] = value instead\n",
      "\n",
      "See the caveats in the documentation: https://pandas.pydata.org/pandas-docs/stable/user_guide/indexing.html#returning-a-view-versus-a-copy\n",
      "  isetter(loc, value)\n",
      "/home/lfwssl/MarchMadness/lib64/python3.6/site-packages/pandas/core/indexing.py:1743: SettingWithCopyWarning: \n",
      "A value is trying to be set on a copy of a slice from a DataFrame.\n",
      "Try using .loc[row_indexer,col_indexer] = value instead\n",
      "\n",
      "See the caveats in the documentation: https://pandas.pydata.org/pandas-docs/stable/user_guide/indexing.html#returning-a-view-versus-a-copy\n",
      "  isetter(ilocs[0], value)\n",
      "/home/lfwssl/MarchMadness/lib64/python3.6/site-packages/pandas/core/indexing.py:1781: SettingWithCopyWarning: \n",
      "A value is trying to be set on a copy of a slice from a DataFrame.\n",
      "Try using .loc[row_indexer,col_indexer] = value instead\n",
      "\n",
      "See the caveats in the documentation: https://pandas.pydata.org/pandas-docs/stable/user_guide/indexing.html#returning-a-view-versus-a-copy\n",
      "  self.obj[item_labels[indexer[info_axis]]] = value\n"
     ]
    },
    {
     "name": "stdout",
     "output_type": "stream",
     "text": [
      "Std Tests 2021\n",
      "MinMax Tests 2021\n"
     ]
    }
   ],
   "source": [
    "# run tests on each year of data and store in an excel file \n",
    "results = pd.DataFrame()\n",
    "df_p['Rank'] = 0\n",
    "# loop through years\n",
    "for y in df_p['Year'].unique():\n",
    "    yr = df_p[df_p['Year'] == y]\n",
    "    results = results.append(runModel(topCorr = topCorr, weightRange = ranges, data = yr.copy(), corVar = corrTo, year = y).copy())\n",
    "\n",
    "# save results to excel\n",
    "results.to_csv(\"./processed_data/Weighted_Results_PCA.csv\")"
   ]
  },
  {
   "cell_type": "code",
   "execution_count": null,
   "metadata": {},
   "outputs": [],
   "source": []
  }
 ],
 "metadata": {
  "kernelspec": {
   "display_name": "Python 3",
   "language": "python",
   "name": "python3"
  },
  "language_info": {
   "codemirror_mode": {
    "name": "ipython",
    "version": 3
   },
   "file_extension": ".py",
   "mimetype": "text/x-python",
   "name": "python",
   "nbconvert_exporter": "python",
   "pygments_lexer": "ipython3",
   "version": "3.6.8"
  }
 },
 "nbformat": 4,
 "nbformat_minor": 4
}
